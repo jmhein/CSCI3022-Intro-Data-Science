{
 "cells": [
  {
   "cell_type": "markdown",
   "metadata": {},
   "source": [
    "\n",
    "# Homework 5: Bootstrapping, Hypothesis Testing, and Regression\n",
    "***\n",
    "\n",
    "**Name**: Jeremy M. Hein\n",
    "\n",
    "***\n",
    "\n",
    "This assignment is due on Moodle by **11:59 PM on Friday 17 April**. Your solutions to theoretical questions should be done in Markdown/MathJax directly below the associated question.  Your solutions to computational questions should include any specified Python code and results as well as written commentary on your conclusions.  Remember that you are encouraged to discuss the problems with your instructors and classmates, but **you must write all code and solutions on your own**. \n",
    "\n",
    "**NOTES**: \n",
    "\n",
    "- Any relevant data sets should be available under the **Data** module on Canvas, as well as in the zipped folder in which you obtained this assignment. \n",
    "- Do **NOT** load or use any Python packages that are not available in Anaconda 3.6. \n",
    "- Because you can technically evaluate notebook cells in a non-linear order, it's a good idea to do Kernel $\\rightarrow$ Restart & Run All as a check before submitting your solutions.  That way if we need to run your code you will know that it will work as expected. \n",
    "- It is **bad form** to make your reader interpret numerical output from your code.  If a question asks you to compute some value from the data you should show your code output **AND** write a summary of the results in Markdown directly below your code. \n",
    "- You **MUST** leave all of your notebook cells **evaluated** so the graders do not need to re-evaluate them. For 100+ students, this extra time adds up, and makes the graders' lives unnecessarily more difficult.\n",
    "- This probably goes without saying, but... For any question that asks you to calculate something, you **must show all work and justify your answers to receive credit**. Sparse or nonexistent work will receive sparse or nonexistent credit. \n",
    "- Submit only this Jupyter notebook to Canvas.  Do not compress it using tar, rar, zip, etc. \n"
   ]
  },
  {
   "cell_type": "code",
   "execution_count": 2,
   "metadata": {
    "scrolled": true
   },
   "outputs": [],
   "source": [
    "import numpy as np\n",
    "import math\n",
    "import scipy.stats as stats\n",
    "import matplotlib.pyplot as plt\n",
    "import pandas as pd\n",
    "%matplotlib inline"
   ]
  },
  {
   "cell_type": "markdown",
   "metadata": {
    "collapsed": true
   },
   "source": [
    "---\n",
    "\n",
    "### [20 points] Problem 1 - Hypothesis Testing: Knowledge Check\n",
    "\n",
    "You are working as a Data Scientist for an internet company. Your co-worker, Bob Dob, is a lovable scamp! Unfortunately, he also makes a lot of mistakes throughout the day as the two of you team up to tackle some inference work regarding your company's customers. In each case, clearly explain why Bob's hypothesis testing setup or conclusion is incorrect."
   ]
  },
  {
   "cell_type": "markdown",
   "metadata": {},
   "source": [
    "**Part A**: Bob has some data on the characteristics of customers that visited the company's website over the previous month.  He wants to perform an analysis on the proportion of last month's website visitors that bought something.  \n",
    "\n",
    "Let $X$ be the random variable describing the number of website visitors who bought something in the previous month, and suppose that the population proportion of visitors who bought something is $p$. Bob is particularly interested to see if the data suggests that more than 20% of website visitors actually buy something.  He decides to perform the test with a null hypothesis of $H_0: \\hat{p} = 0.20$, where $\\hat{p}$ is the sample proportion."
   ]
  },
  {
   "cell_type": "markdown",
   "metadata": {},
   "source": [
    "**Response:**\n",
    "\n",
    "In any hypothesis-test problem, there must be two competing hypotheses under consideration: the null hypothesis and the alternative hypothesis.  In Bob's test, he has only described a single hypothesis (null) but has not identified the alternative hypothesis.  If he wants to investigate if more than 20% of website visitors actually bought something, he should set to $H_1: p > 0.20$.  In addition, Bob's analysis is attempting to infer something about the population of website visitors (any statistical hypothesis test is a claim about the value of a parameter of a population characteristic).  Therefore, his null hypothesis should be $H_0: p = 0.20$, rather than $H_0: \\hat{p} = 0.20$, since $\\hat{p}$ is in reference to the sample proportion, not the population proportion."
   ]
  },
  {
   "cell_type": "markdown",
   "metadata": {},
   "source": [
    "**Part B**: Bob decides instead to do his hypothesis test with a null hypothesis of $H_0: p > 0.2$."
   ]
  },
  {
   "cell_type": "markdown",
   "metadata": {},
   "source": [
    "**Response:**\n",
    "\n",
    "We don’t want to accept a particular assertion unless data can be shown to strongly support it.  Therefore, in our case, we must set the alternative hypothesis to $H_1: p > 0.2$ and perform our analysis to see if there is sufficient evidience to reject the null and accept our alternative hypothesis.  This is consistent across all hypothesis testing - we must assume the null is true and provide sufficient evidence to accept an alternative hypothesis. "
   ]
  },
  {
   "cell_type": "markdown",
   "metadata": {},
   "source": [
    "**Part C**: Finally on track with reasonable hypotheses of $H_0: p = 0.20$ and $H_1: p > 0.20$, Bob computes a normalized test-statistic of $z = -1.5$ for the sample proportion and concludes that since $-1.5 < 0.05$ there is sufficient statistical evidence at the $\\alpha = 0.05$ (95%) significance level that the proportion of customers who buy something is less than 15%."
   ]
  },
  {
   "cell_type": "markdown",
   "metadata": {},
   "source": [
    "**Response:**\n",
    "\n",
    "Bob needs to compare the test-statistic he calculated ($Z_{test}$) to the threshold value ($Z_{critical}$), which is based on the significance level $\\alpha$.  In his test above, he is comparing it to $\\alpha$ itself, which is incorrect.  Also, his hypothesis-test is in the form $\\theta > \\theta_{0}$, which means he has a one-tailed rejection region and he should be checking if $Z_{test} > Z_{critical}$, not $Z_{test} < Z_{critical}$.  Lastly, Bob appears to be subtracting $\\alpha$ from the population proportion, p, in his conclusion.  In no way does $\\alpha$ alter the values of our hypotheses, which in this case should remain $H_0: p = 0.20$ and $H_1: p > 0.20$."
   ]
  },
  {
   "cell_type": "markdown",
   "metadata": {},
   "source": [
    "**Part D**: Bob is again conducting the hypothesis test of $H_0: p = 0.20$ and $H_1: p > 0.20$. He computes a p-value of $0.06$, and thus concludes that there is only a 6% probability that the null hypothesis is true. "
   ]
  },
  {
   "cell_type": "markdown",
   "metadata": {},
   "source": [
    "**Response:**\n",
    "\n",
    "The p-value assesses the extremeness of our test statistic. The smaller the p-value, the more evidence we have against the Null Hypothesis.  It is NOT the probability the null hypothesis is true, thus Bob's conclusion is incorrect."
   ]
  },
  {
   "cell_type": "markdown",
   "metadata": {},
   "source": [
    "---\n",
    "\n",
    "\n",
    "### [30 points] Problem 2 - Naps vs Coffee for Memory? \n",
    "\n",
    "It is estimated that [about 75% of adults](https://www.ncbi.nlm.nih.gov/pmc/articles/PMC4997286/) in the United States drink coffee. Often, coffee is used to replace the need for sleep. It works alright, or so we think. Let's find out, in this exciting homework problem!\n",
    "\n",
    "[One recent study](https://www.sciencedirect.com/science/article/pii/S1388245703002554) investigated the effects of drinking coffee, taking a nap, and having a [\"coffee-nap\"](https://lifehacker.com/naps-vs-coffee-which-is-better-when-youre-exhausted-1730643671) - the practice of drinking some coffee *and then* having a short nap. The study broke participants up into three groups of 10 participants each, where the groups would have a nap, or have a coffee, or have a coffee-nap, then perform a task where their reaction time was measured. In previous experiments the mean reaction time measurement was found to be normally distributed. The reaction time means (milliseconds, ms) and standard deviations for the three groups of participants are given in the table below.\n",
    "\n",
    "$$\n",
    "\\begin{array}{c|c|c|c}\n",
    "\\textrm{Group} & \\textrm{Sample Size} & \\textrm{Mean} & \\textrm{Standard Deviation} \\\\\n",
    "\\hline \n",
    "\\textrm{Coffee+Nap} & 10 & 451.3 & 31.9 \\\\ \n",
    "\\textrm{Coffee} & 10 & 494.2 & 39.6 \\\\ \n",
    "\\textrm{Nap} & 10 & 492.8 & 45.2 \\\\ \n",
    "\\end{array}\n",
    "$$\n",
    "\n",
    "**Part A**: Compute a 95% t-confidence interval for the mean reaction time measurement for participants in each of these three groups. (You should find three separate confidence intervals.) Do all computations in Python by hand, and report the results.\n",
    "\n",
    "1. Can you make any conclusions regarding whether coffee, naps or both (coffee-naps) are better for faster reaction times?\n",
    "2. Why did we use a t-distribution?"
   ]
  },
  {
   "cell_type": "code",
   "execution_count": 7,
   "metadata": {},
   "outputs": [
    {
     "name": "stdout",
     "output_type": "stream",
     "text": [
      "CI for coffee is:  465.8718665242781 ,  522.5281334757218\n",
      "CI for nap is:  460.46586785094377 ,  525.1341321490563\n",
      "CI for coffee + nap is:  428.48011470011295 ,  474.1198852998871\n"
     ]
    }
   ],
   "source": [
    "#set sample size\n",
    "n = 10\n",
    "v = n - 1\n",
    "\n",
    "#set means and standard deviations\n",
    "xbarCoffee = 494.2\n",
    "xbarNap = 492.8\n",
    "xbarCandN = 451.3\n",
    "\n",
    "coffeestdv = 39.6\n",
    "napstdv = 45.2\n",
    "coffeenapstdv = 31.9\n",
    "\n",
    "#get t-critical value\n",
    "t_alpha = stats.t.ppf(1-(0.05/2), df=v) #95% confidence interval\n",
    "\n",
    "SEcoffee = coffeestdv/np.sqrt(n)\n",
    "SEnap = napstdv/np.sqrt(n)\n",
    "SEcoffeenap = coffeenapstdv/np.sqrt(n)\n",
    "\n",
    "CIcoffeeMin = xbarCoffee - t_alpha*SEcoffee\n",
    "CIcoffeeMax = xbarCoffee + t_alpha*SEcoffee\n",
    "\n",
    "CInapMin = xbarNap - t_alpha*SEnap\n",
    "CInapMax = xbarNap + t_alpha*SEnap\n",
    "\n",
    "CIcoffeenapMin = xbarCandN - t_alpha*SEcoffeenap\n",
    "CIcoffeenapMax = xbarCandN + t_alpha*SEcoffeenap\n",
    "\n",
    "print(\"CI for coffee is: \", CIcoffeeMin, \", \", CIcoffeeMax)\n",
    "print(\"CI for nap is: \", CInapMin, \", \", CInapMax)\n",
    "print(\"CI for coffee + nap is: \", CIcoffeenapMin, \", \", CIcoffeenapMax)"
   ]
  },
  {
   "cell_type": "code",
   "execution_count": 4,
   "metadata": {},
   "outputs": [
    {
     "name": "stdout",
     "output_type": "stream",
     "text": [
      "0.012389424734790766\n"
     ]
    }
   ],
   "source": [
    "n = 12\n",
    "xbar = 3.65\n",
    "mu = 3.5\n",
    "s = 0.2\n",
    "\n",
    "t_stat = (xbar - mu)/(s/np.sqrt(n))\n",
    "\n",
    "#get t-critical value\n",
    "t_alpha = stats.t.ppf(1-(0.05/2), df=n-1) #95% confidence interval\n",
    "p_val = 1 - stats.t.cdf(t_stat, df = n-1)\n",
    "print (p_val)"
   ]
  },
  {
   "cell_type": "markdown",
   "metadata": {},
   "source": [
    "**Response:**\n",
    "\n",
    "We can see there is overlap in our CI's, so we can't conclue with certanity that the mean reaction time after drinking coffee, taking a nap, or drinking coffee and then taking a nap are better for faster reaction times.  We do see that the CI for a coffee-nap is lower than just drinking coffee or just taking a nap, so we may hypothesize that a coffee-nap is better for faster reaction times, but would need to perform more tests in order to reach that conclusion."
   ]
  },
  {
   "cell_type": "markdown",
   "metadata": {},
   "source": [
    "**Part B**: Use an appropriate hypothesis test to determine if there sufficient evidence, at the $\\alpha = 0.05$ significance level, to conclude that taking a nap promotes faster reaction time than drinking coffee.  Be sure to clearly explain the test that you're doing and state all hypotheses. Do all computations in Python, and report results."
   ]
  },
  {
   "cell_type": "markdown",
   "metadata": {},
   "source": [
    "**Hypothesis Setup:**\n",
    "\n",
    "Let $\\mu_{N}$ be the population mean reaction time for taking a nap and $\\mu_{C}$ be the population mean reaction time for drinking coffee.\n",
    "\n",
    "Then we have:\n",
    "\n",
    "$H_{0}: \\mu_{N} - \\mu_{C} = 0$ (There is no difference in the mean reaction time)\n",
    "\n",
    "$H_{1}: \\mu_{N} - \\mu_{C} < 0$ (The mean reaction time after taking a nap is faster (i.e. lower) than the mean reaction time after drinking coffee)\n",
    "\n",
    "In addition, we have:\n",
    "\n",
    "$\\alpha = 0.05$, and\n",
    "\n",
    "$t_{test} = \\frac{\\left(\\bar{x}_{N} - \\bar{x}_{C}\\right) - c}{\\sqrt{\\frac{(\\sigma_{N})^{2}}{n_{N}} + \\frac{(\\sigma_{C})^{2}}{n_{C}}}}$"
   ]
  },
  {
   "cell_type": "code",
   "execution_count": 74,
   "metadata": {},
   "outputs": [
    {
     "name": "stdout",
     "output_type": "stream",
     "text": [
      "0.4710419665971047\n",
      "There is not statistical evidence to reject the null hypothesis at the 95% confidence level, thus we conclue that the mean reaction time after taking a nap is not faster than the mean reaction time after drinking coffee.\n"
     ]
    }
   ],
   "source": [
    "#set variables\n",
    "xbarNap = 492.8\n",
    "xbarCoffee = 494.2\n",
    "\n",
    "napstdv = 45.2\n",
    "coffeestdv = 39.6\n",
    "\n",
    "c = 0 #c = 0 in this case\n",
    "n = 10 #both data sets have sample size 10\n",
    "v = (n + n) - 2 #calculate degrees of freedom\n",
    "\n",
    "#calculate t_test statistic\n",
    "SEdiff = np.sqrt(((napstdv**2)/n) + ((coffeestdv**2)/n))\n",
    "t_test = ((xbarNap - xbarCoffee) - c) / SEdiff\n",
    "\n",
    "#calculate p_value using t-distribution\n",
    "p_value = stats.t.cdf(t_test, df=v)\n",
    "\n",
    "print (p_value)\n",
    "if p_value < 0.05:\n",
    "    print (\"There is statistical evidence to reject the null hypothesis at the 95% confidence level and conclue that the mean reaction time after taking a nap is faster than the mean reaction time after drinking coffee.\")\n",
    "else:\n",
    "    print (\"There is not statistical evidence to reject the null hypothesis at the 95% confidence level, thus we conclue that the mean reaction time after taking a nap is not faster than the mean reaction time after drinking coffee.\")"
   ]
  },
  {
   "cell_type": "markdown",
   "metadata": {},
   "source": [
    "**Results:**\n",
    "\n",
    "We can see that our p-value of ~0.471 is greater than $\\alpha$, therefore we fail to reject the null hypothesis and conclue that the mean reaction time after taking a nap is not greater than the mean reaction time after drinking coffee."
   ]
  },
  {
   "cell_type": "markdown",
   "metadata": {},
   "source": [
    "**Part C**: Use an appropriate hypothesis test to determine if there is sufficient evidence, at the $\\alpha = 0.05$ significance level, to conclude that taking a coffee-nap promotes faster reaction time than only drinking coffee, or only having a nap.  Be sure to clearly explain the test that you're doing and state all hypotheses. Do all computations in Python, and report results."
   ]
  },
  {
   "cell_type": "markdown",
   "metadata": {},
   "source": [
    "**Hypothesis Setup:**\n",
    "\n",
    "We will do this test in two parts - first comparing coffee-nap to coffee and then comparing coffee-nap to nap.  \n",
    "\n",
    "Coffee-Nap v. Coffee:\n",
    "\n",
    "$H_{0}: \\mu_{CN} - \\mu_{C} = 0$ (There is no difference in the mean reaction time)\n",
    "\n",
    "$H_{1}: \\mu_{CN} - \\mu_{C} < 0$ (The mean reaction time after drinking coffee and then taking a nap is faster (i.e. lower) than the mean reaction time after just drinking coffee)\n",
    "\n",
    "Coffee-Nap v. Nap:\n",
    "\n",
    "$H_{0}: \\mu_{CN} - \\mu_{N} = 0$ (There is no difference in the mean reaction time)\n",
    "\n",
    "$H_{1}: \\mu_{CN} - \\mu_{N} < 0$ (The mean reaction time after drinking coffee and then taking a nap is faster (i.e. lower) than the mean reaction time after just taking a nap)\n",
    "\n",
    "As in part B, we have $\\alpha = 0.05$ and \n",
    "\n",
    "$t_{test} = \\frac{\\left(\\bar{x}_{CN} - \\bar{x}_{C}\\right) - c}{\\sqrt{\\frac{(\\sigma_{CN})^{2}}{n_{CN}} + \\frac{(\\sigma_{C})^{2}}{n_{C}}}}$\n",
    "\n",
    "$t_{test} = \\frac{\\left(\\bar{x}_{CN} - \\bar{x}_{N}\\right) - c}{\\sqrt{\\frac{(\\sigma_{CN})^{2}}{n_{CN}} + \\frac{(\\sigma_{N})^{2}}{n_{N}}}}$"
   ]
  },
  {
   "cell_type": "code",
   "execution_count": 72,
   "metadata": {},
   "outputs": [
    {
     "name": "stdout",
     "output_type": "stream",
     "text": [
      "0.007842570445960756\n",
      "There is statistical evidence to reject the null hypothesis at the 95% confidence level and conclue that the mean reaction time after taking a coffee-nap is faster than the mean reaction time after drinking coffee.\n"
     ]
    }
   ],
   "source": [
    "#TESTING Coffee-Nap V. Coffee\n",
    "\n",
    "#set variables\n",
    "xbarCoffeeNap = 451.3\n",
    "xbarCoffee = 494.2\n",
    "\n",
    "coffeenapstdv = 31.9\n",
    "coffeestdv = 39.6\n",
    "\n",
    "c = 0 #c = 0 in this case\n",
    "n = 10 #both data sets have sample size 10\n",
    "v = (n + n) - 2 #calculate degrees of freedom\n",
    "\n",
    "#calculate t_test statistic\n",
    "SEdiff = np.sqrt(((coffeenapstdv**2)/n) + ((coffeestdv**2)/n))\n",
    "t_test = ((xbarCoffeeNap - xbarCoffee) - c) / SEdiff\n",
    "\n",
    "#calculate p_value using t-distribution\n",
    "p_value = stats.t.cdf(t_test, df=v)\n",
    "\n",
    "print (p_value)\n",
    "if p_value < 0.05:\n",
    "    print (\"There is statistical evidence to reject the null hypothesis at the 95% confidence level and conclue that the mean reaction time after taking a coffee-nap is faster than the mean reaction time after drinking coffee.\")\n",
    "else:\n",
    "    print (\"There is not statistical evidence to reject the null hypothesis at the 95% confidence level, thus we conclue that the mean reaction time after taking a coffee-nap is not faster than the mean reaction time after drinking coffee.\")"
   ]
  },
  {
   "cell_type": "code",
   "execution_count": 73,
   "metadata": {},
   "outputs": [
    {
     "name": "stdout",
     "output_type": "stream",
     "text": [
      "0.014518749480756805\n",
      "There is statistical evidence to reject the null hypothesis at the 95% confidence level and conclue that the mean reaction time after taking a coffee-nap is faster than the mean reaction time after taking a nap.\n"
     ]
    }
   ],
   "source": [
    "#TESTING Coffee-Nap V. Nap\n",
    "\n",
    "#set variables\n",
    "xbarCoffeeNap = 451.3\n",
    "xbarNap = 492.8\n",
    "\n",
    "coffeenapstdv = 31.9\n",
    "napstdv = 45.2\n",
    "\n",
    "c = 0 #c = 0 in this case\n",
    "n = 10 #both data sets have sample size 10\n",
    "v = (n + n) - 2 #calculate degrees of freedom\n",
    "\n",
    "#calculate t_test statistic\n",
    "SEdiff = np.sqrt(((coffeenapstdv**2)/n) + ((napstdv**2)/n))\n",
    "t_test = ((xbarCoffeeNap - xbarNap) - c) / SEdiff\n",
    "\n",
    "#calculate p_value using t-distribution\n",
    "p_value = stats.t.cdf(t_test, df=v)\n",
    "\n",
    "print (p_value)\n",
    "if p_value < 0.05:\n",
    "    print (\"There is statistical evidence to reject the null hypothesis at the 95% confidence level and conclue that the mean reaction time after taking a coffee-nap is faster than the mean reaction time after taking a nap.\")\n",
    "else:\n",
    "    print (\"There is not statistical evidence to reject the null hypothesis at the 95% confidence level, thus we conclue that the mean reaction time after taking a coffee-nap is not faster than the mean reaction time after taking a nap.\")"
   ]
  },
  {
   "cell_type": "markdown",
   "metadata": {},
   "source": [
    "**Response:**\n",
    "\n",
    "In both tests, we see that our p-value is less than our confidence interval of 0.05 indicating there is statistical evidence to reject the null hypothesis and conclude that taking a coffee-nap is better for faster reaction times than just taking a nap or just drinking coffee."
   ]
  },
  {
   "cell_type": "markdown",
   "metadata": {},
   "source": [
    "**Part D**: Compute a 95% confidence interval for the standard deviation of reaction time for coffee-nap takers. Do all computations in Python, and report the results."
   ]
  },
  {
   "cell_type": "markdown",
   "metadata": {},
   "source": [
    "**Response:**\n",
    "\n",
    "Since our data is normally distributed and the standard deviation is known, we can use the chi-squared distribtuion to calculate our CI.  Our resulting confidence interval is [21.94, 58.24]."
   ]
  },
  {
   "cell_type": "code",
   "execution_count": 75,
   "metadata": {},
   "outputs": [
    {
     "name": "stdout",
     "output_type": "stream",
     "text": [
      "CI for the standard deviation is:  21.94194309529309 ,  58.236964822374404\n"
     ]
    }
   ],
   "source": [
    "#set variables\n",
    "n = 10\n",
    "v = n - 1\n",
    "sigma = 31.9\n",
    "sigma_square = sigma**2\n",
    "\n",
    "#get critical values\n",
    "x2_lower = stats.chi2.ppf(0.975,df=v)\n",
    "x2_upper = stats.chi2.ppf(0.025,df=v)\n",
    "\n",
    "#CI for variance\n",
    "CIminVar = (v * sigma_square)/x2_lower\n",
    "CImaxVar = (v * sigma_square)/x2_upper\n",
    "\n",
    "#CI for standard deviation\n",
    "CIminStdv = np.sqrt(CIminVar)\n",
    "CImaxStdv = np.sqrt(CImaxVar)\n",
    "\n",
    "print(\"CI for the standard deviation is: \", CIminStdv, \", \", CImaxStdv)"
   ]
  },
  {
   "cell_type": "markdown",
   "metadata": {},
   "source": [
    "<br>\n",
    "\n",
    "---\n",
    "\n",
    "### [50 points] Problem 3 - Simple Linear Regression for Science!\n",
    "\n",
    "[Google Trends](https://trends.google.com/trends/?geo=US) is a free source of data about the interest in particular search terms. In this problem, we'll look at the interest in the search term \"Influenza\" and discover how interest in \"Influenza\" is changing over time. Interest is measured relative to the maximum rate of Google searches for that term over the time period (so the maximum is 100). \n",
    "\n",
    "**Part A:** Load up the data in `influenza_interest.csv` into a Pandas DataFrame. Create two new columns:\n",
    "\n",
    "* `Year` should be the year associated with that data point, and\n",
    "* `Month` should be the month (1-12) associated with that data point.\n",
    "\n",
    "Then, make a **scatter plot** (using `pyplot.scatter`) of all of the data points, showing how interest in \"influenza\" has evolved over time. Label the x-axis by year, displaying ticks for Janurary of each year between 2004 and 2021 (so that we can see all of the data and don't cut the year 2020 off at January 2020). You may find the Matplotlib DateFormatter object and the matplotlib dates module useful to correctly plot this data. You may use them if you wish to, but don't need to. They're imported below."
   ]
  },
  {
   "cell_type": "code",
   "execution_count": 2,
   "metadata": {},
   "outputs": [],
   "source": [
    "#STARTER CODE DO NOT CHANGE\n",
    "from matplotlib.dates import DateFormatter\n",
    "import matplotlib.dates as mdates"
   ]
  },
  {
   "cell_type": "code",
   "execution_count": 3,
   "metadata": {},
   "outputs": [
    {
     "name": "stderr",
     "output_type": "stream",
     "text": [
      "C:\\Users\\jerem\\Anaconda3\\lib\\site-packages\\pandas\\plotting\\_matplotlib\\converter.py:103: FutureWarning: Using an implicitly registered datetime converter for a matplotlib plotting method. The converter was registered by pandas on import. Future versions of pandas will require you to explicitly register matplotlib converters.\n",
      "\n",
      "To register the converters:\n",
      "\t>>> from pandas.plotting import register_matplotlib_converters\n",
      "\t>>> register_matplotlib_converters()\n",
      "  warnings.warn(msg, FutureWarning)\n"
     ]
    },
    {
     "data": {
      "text/plain": [
       "Text(0.5, 1.0, 'Historical Interest in Influenza')"
      ]
     },
     "execution_count": 3,
     "metadata": {},
     "output_type": "execute_result"
    },
    {
     "data": {
      "image/png": "[encoded data removed]",
      "text/plain": [
       "<Figure size 1080x360 with 1 Axes>"
      ]
     },
     "metadata": {
      "needs_background": "light"
     },
     "output_type": "display_data"
    }
   ],
   "source": [
    "#load file into pandas dataframe\n",
    "file_path = \"C:/Users/jerem/OneDrive/Documents/CSCI3022/influenza_interest.csv\"\n",
    "df = pd.read_csv(file_path)\n",
    "\n",
    "#rename columns\n",
    "df.columns =['Date', 'Interest']\n",
    "\n",
    "#add year and month columns to data\n",
    "df['Year'] = pd.DatetimeIndex(df['Date']).year\n",
    "df['Month'] = pd.DatetimeIndex(df['Date']).month\n",
    "\n",
    "#convert date column to datetime64 data type\n",
    "df['Date'] = pd.to_datetime(df['Date'], format=\"%Y/%m\")\n",
    "\n",
    "#set up plot\n",
    "fig, ax = plt.subplots(figsize=(15,5))\n",
    "ax.scatter(df[\"Date\"], df[\"Interest\"], color=\"steelblue\")\n",
    "\n",
    "#get minimum and maximum dates\n",
    "dateMin = np.datetime64(min(df['Date']))\n",
    "dateMax = np.datetime64(max(df['Date']))\n",
    "\n",
    "years = mdates.YearLocator()   # every year\n",
    "months = mdates.MonthLocator()  # every month\n",
    "years_fmt = mdates.DateFormatter('Jan %Y') #set format of of major ticks\n",
    "\n",
    "#format ticks\n",
    "ax.xaxis.set_major_locator(years)\n",
    "ax.xaxis.set_major_formatter(years_fmt)\n",
    "ax.xaxis.set_minor_locator(months)\n",
    "plt.xticks(rotation=30)\n",
    "\n",
    "#set axis limits\n",
    "ax.set_xlim(dateMin, dateMax)\n",
    "\n",
    "#label appropriately\n",
    "ax.set_xlabel(\"Month\", fontsize=16)\n",
    "ax.set_ylabel(\"Influenza Interest\", fontsize=16);\n",
    "ax.set_title(\"Historical Interest in Influenza\", fontsize=20)"
   ]
  },
  {
   "cell_type": "markdown",
   "metadata": {},
   "source": [
    "**Part B:** This data (and the sea-level data from Homework 4) are both **time series**, where the independent variable is *time* and the dependent quantity is interest in influenza (or sea level in the case of HW 4). One of the central assumptions of linear regression is that the data are observations generated by some process, independently of one another. With time series data, we need to be careful because there could be some other process affecting the output data. In particular, **annual cycles** are patterns that reoccur each year and are frequently present in time series data. For example, seasonal patterns of weather are annual cycles.\n",
    "\n",
    "To see what kind of effect time has, make a **line plot** (using `pyplot.plot`) of the interest in influenza, as a function of time. Again, include all of the data points and, for the x-axis, label only the tick marks associated with January of each year, and be sure to label your axes."
   ]
  },
  {
   "cell_type": "code",
   "execution_count": 4,
   "metadata": {},
   "outputs": [
    {
     "data": {
      "text/plain": [
       "Text(0.5, 1.0, 'Historical Interest in Influenza')"
      ]
     },
     "execution_count": 4,
     "metadata": {},
     "output_type": "execute_result"
    },
    {
     "data": {
      "image/png": "[encoded data removed]",
      "text/plain": [
       "<Figure size 1080x360 with 1 Axes>"
      ]
     },
     "metadata": {
      "needs_background": "light"
     },
     "output_type": "display_data"
    }
   ],
   "source": [
    "#set up plot\n",
    "fig, ax = plt.subplots(figsize=(15,5))\n",
    "ax.plot(df[\"Date\"], df[\"Interest\"], color=\"steelblue\") #plot line rather than scatter\n",
    "\n",
    "#get minimum and maximum dates\n",
    "dateMin = np.datetime64(min(df['Date']))\n",
    "dateMax = np.datetime64(max(df['Date']))\n",
    "\n",
    "years = mdates.YearLocator()   # every year\n",
    "months = mdates.MonthLocator()  # every month\n",
    "years_fmt = mdates.DateFormatter('Jan %Y') #set format of of major ticks\n",
    "\n",
    "# format ticks\n",
    "ax.xaxis.set_major_locator(years)\n",
    "ax.xaxis.set_major_formatter(years_fmt)\n",
    "ax.xaxis.set_minor_locator(months)\n",
    "plt.xticks(rotation=30)\n",
    "\n",
    "#set axis limits\n",
    "ax.set_xlim(dateMin, dateMax)\n",
    "\n",
    "#label appropriately\n",
    "ax.set_xlabel(\"Month\", fontsize=16)\n",
    "ax.set_ylabel(\"Influenza Interest\", fontsize=16);\n",
    "ax.set_title(\"Historical Interest in Influenza\", fontsize=20)"
   ]
  },
  {
   "cell_type": "markdown",
   "metadata": {},
   "source": [
    "**Part C:** Does your plot from Part B suggest that there is some annual cycle to the interest in influenza? During which months is interest in influenza highest? What about lowest? Justify your answers using your plot, **and** by computing the mean interest in influenza for each month. So, compute 12 values and report them in a markdown table. Do **not** just spit out a horizontal list of 12 numbers. That would be yucky to try to read, and we're scientists.\n",
    "\n",
    "What do you think accounts for the increased interest in influenza during the fall and winter months?"
   ]
  },
  {
   "cell_type": "code",
   "execution_count": 5,
   "metadata": {},
   "outputs": [
    {
     "name": "stdout",
     "output_type": "stream",
     "text": [
      "22.294117647058822\n",
      "25.470588235294116\n",
      "21.88235294117647\n",
      "18.941176470588236\n",
      "10.5625\n",
      "6.4375\n",
      "5.0\n",
      "6.0625\n",
      "10.25\n",
      "14.9375\n",
      "12.9375\n",
      "14.9375\n"
     ]
    }
   ],
   "source": [
    "#calculate means of each month\n",
    "dfJan = df.loc[df[\"Month\"]==1]\n",
    "dfFeb = df.loc[df[\"Month\"]==2]\n",
    "dfMar = df.loc[df[\"Month\"]==3]\n",
    "dfApr = df.loc[df[\"Month\"]==4]\n",
    "dfMay = df.loc[df[\"Month\"]==5]\n",
    "dfJun = df.loc[df[\"Month\"]==6]\n",
    "dfJul = df.loc[df[\"Month\"]==7]\n",
    "dfAug = df.loc[df[\"Month\"]==8]\n",
    "dfSep = df.loc[df[\"Month\"]==9]\n",
    "dfOct = df.loc[df[\"Month\"]==10]\n",
    "dfNov = df.loc[df[\"Month\"]==11]\n",
    "dfDec = df.loc[df[\"Month\"]==12]\n",
    "\n",
    "Jan = dfJan['Interest'].mean()\n",
    "Feb = dfFeb['Interest'].mean()\n",
    "Mar = dfMar['Interest'].mean()\n",
    "Apr = dfApr['Interest'].mean()\n",
    "May = dfMay['Interest'].mean()\n",
    "Jun = dfJun['Interest'].mean()\n",
    "Jul = dfJul['Interest'].mean()\n",
    "Aug = dfAug['Interest'].mean()\n",
    "Sep = dfSep['Interest'].mean()\n",
    "Oct = dfOct['Interest'].mean()\n",
    "Nov = dfNov['Interest'].mean()\n",
    "Dec = dfDec['Interest'].mean()\n",
    "\n",
    "print(Jan)\n",
    "print(Feb)\n",
    "print(Mar)\n",
    "print(Apr)\n",
    "print(May)\n",
    "print(Jun)\n",
    "print(Jul)\n",
    "print(Aug)\n",
    "print(Sep)\n",
    "print(Oct)\n",
    "print(Nov)\n",
    "print(Dec)"
   ]
  },
  {
   "cell_type": "markdown",
   "metadata": {},
   "source": [
    "**Response:**\n",
    "\n",
    "We can see from our line plot and from our calculation of monthly average interest that the data suggests there is seasonality in the interest in influzena.  We can see that interest in influenze increases in the fall and early winter months (Aug - Feb) and begins to decrease through the spring and summer months (Mar - July).  This makes sense, as more people are sick with the flu in the fall and winter months as opposed to the spring and summer months.\n",
    "\n",
    "| Month      | Average Interest |\n",
    "|:-----------|------------:|\n",
    "| January    | 22.29       |\n",
    "| February   | 25.47       |\n",
    "| March      | 21.88       |\n",
    "| April      | 18.94       |\n",
    "| May        | 10.56       |\n",
    "| June       | 6.44        |\n",
    "| July       | 5.00        |\n",
    "| August     | 6.06        |\n",
    "| September  | 10.25       |\n",
    "| October    | 14.94       |\n",
    "| November   | 12.94       |\n",
    "| December   | 14.94       |"
   ]
  },
  {
   "cell_type": "markdown",
   "metadata": {},
   "source": [
    "**Part D:** (Spoiler alert!) Since there seems to be an annual cycle, one of the fundamental assumptions of our simple linear regression model is not satisfied. Namely, it is not the case that the model-data residuals, $\\epsilon_i$, are independent of one another.\n",
    "\n",
    "So, we need to process our data a bit further before fitting a regression model. One way to address this is to take the mean of all the data each year and use for analysis the time series of annual mean interest in data science. Write a function (you'll want to use this code again later) that takes in the monthyl DataFrame, and returns a new DataFrame that consists only of two columns:\n",
    "\n",
    "* `year`, and\n",
    "* `interest`, the mean interest in data science from all of the months in that year.\n",
    "\n",
    "Then call this function to convert the monthly data into yearly averages. Print the entire resulting datframe. \n",
    "\n",
    "**NOTE:** We have one year with incomplete data in our dataframe. Since 2020 isn't complete yet, we only have 3 months of data for this year. Here, we should compute the average of the three months we have. We'd recommend using a pandas [groupby](https://pandas.pydata.org/pandas-docs/stable/reference/api/pandas.DataFrame.groupby.html) on the year column to compute averages, but how you do this is up to you. If you do use a group by, you may find the .reset_index dataframe function useful to clean up the output. Don't hardcode the years, or do anything that relies on a year being twelve months. It will make your life harder later in this problem."
   ]
  },
  {
   "cell_type": "code",
   "execution_count": 6,
   "metadata": {},
   "outputs": [
    {
     "data": {
      "text/html": [
       "<div>\n",
       "<style scoped>\n",
       "    .dataframe tbody tr th:only-of-type {\n",
       "        vertical-align: middle;\n",
       "    }\n",
       "\n",
       "    .dataframe tbody tr th {\n",
       "        vertical-align: top;\n",
       "    }\n",
       "\n",
       "    .dataframe thead th {\n",
       "        text-align: right;\n",
       "    }\n",
       "</style>\n",
       "<table border=\"1\" class=\"dataframe\">\n",
       "  <thead>\n",
       "    <tr style=\"text-align: right;\">\n",
       "      <th></th>\n",
       "      <th>Year</th>\n",
       "      <th>Interest</th>\n",
       "    </tr>\n",
       "  </thead>\n",
       "  <tbody>\n",
       "    <tr>\n",
       "      <td>0</td>\n",
       "      <td>2004</td>\n",
       "      <td>12.416667</td>\n",
       "    </tr>\n",
       "    <tr>\n",
       "      <td>1</td>\n",
       "      <td>2005</td>\n",
       "      <td>15.916667</td>\n",
       "    </tr>\n",
       "    <tr>\n",
       "      <td>2</td>\n",
       "      <td>2006</td>\n",
       "      <td>14.083333</td>\n",
       "    </tr>\n",
       "    <tr>\n",
       "      <td>3</td>\n",
       "      <td>2007</td>\n",
       "      <td>10.833333</td>\n",
       "    </tr>\n",
       "    <tr>\n",
       "      <td>4</td>\n",
       "      <td>2008</td>\n",
       "      <td>12.000000</td>\n",
       "    </tr>\n",
       "    <tr>\n",
       "      <td>5</td>\n",
       "      <td>2009</td>\n",
       "      <td>27.750000</td>\n",
       "    </tr>\n",
       "    <tr>\n",
       "      <td>6</td>\n",
       "      <td>2010</td>\n",
       "      <td>8.166667</td>\n",
       "    </tr>\n",
       "    <tr>\n",
       "      <td>7</td>\n",
       "      <td>2011</td>\n",
       "      <td>8.583333</td>\n",
       "    </tr>\n",
       "    <tr>\n",
       "      <td>8</td>\n",
       "      <td>2012</td>\n",
       "      <td>8.500000</td>\n",
       "    </tr>\n",
       "    <tr>\n",
       "      <td>9</td>\n",
       "      <td>2013</td>\n",
       "      <td>11.000000</td>\n",
       "    </tr>\n",
       "    <tr>\n",
       "      <td>10</td>\n",
       "      <td>2014</td>\n",
       "      <td>11.416667</td>\n",
       "    </tr>\n",
       "    <tr>\n",
       "      <td>11</td>\n",
       "      <td>2015</td>\n",
       "      <td>10.750000</td>\n",
       "    </tr>\n",
       "    <tr>\n",
       "      <td>12</td>\n",
       "      <td>2016</td>\n",
       "      <td>9.583333</td>\n",
       "    </tr>\n",
       "    <tr>\n",
       "      <td>13</td>\n",
       "      <td>2017</td>\n",
       "      <td>13.500000</td>\n",
       "    </tr>\n",
       "    <tr>\n",
       "      <td>14</td>\n",
       "      <td>2018</td>\n",
       "      <td>18.500000</td>\n",
       "    </tr>\n",
       "    <tr>\n",
       "      <td>15</td>\n",
       "      <td>2019</td>\n",
       "      <td>15.750000</td>\n",
       "    </tr>\n",
       "    <tr>\n",
       "      <td>16</td>\n",
       "      <td>2020</td>\n",
       "      <td>74.750000</td>\n",
       "    </tr>\n",
       "  </tbody>\n",
       "</table>\n",
       "</div>"
      ],
      "text/plain": [
       "    Year   Interest\n",
       "0   2004  12.416667\n",
       "1   2005  15.916667\n",
       "2   2006  14.083333\n",
       "3   2007  10.833333\n",
       "4   2008  12.000000\n",
       "5   2009  27.750000\n",
       "6   2010   8.166667\n",
       "7   2011   8.583333\n",
       "8   2012   8.500000\n",
       "9   2013  11.000000\n",
       "10  2014  11.416667\n",
       "11  2015  10.750000\n",
       "12  2016   9.583333\n",
       "13  2017  13.500000\n",
       "14  2018  18.500000\n",
       "15  2019  15.750000\n",
       "16  2020  74.750000"
      ]
     },
     "execution_count": 6,
     "metadata": {},
     "output_type": "execute_result"
    }
   ],
   "source": [
    "def convert_annual(df):\n",
    "    dfNew = df.groupby(\"Year\").mean() #group by year and get mean\n",
    "    dfNew = dfNew.drop(columns = ['Month']) #drop the months column\n",
    "    dfNew.reset_index(inplace = True) #reset index\n",
    "    return dfNew #return the new dataframe\n",
    "\n",
    "dfAnnual = convert_annual(df) #call func\n",
    "dfAnnual #print the annual datafram"
   ]
  },
  {
   "cell_type": "markdown",
   "metadata": {},
   "source": [
    "**Part E:** Write a function to fit a a simple linear regression model with `year` as the feature and `interest` as the response (mean annual interest in influenza). You'll need to use this function later. This function should take in a dataframe and return a fitted model. Use the \"statsmodels\" package (imported below as \"sm\") to generate the model using their convenient [Ordinary Least Squares model](https://www.statsmodels.org/devel/generated/statsmodels.regression.linear_model.OLS.html). Here, you'll want to add a constant term to the feature, so that the statsmodel package can fit the regression model with a non-zero Y intercept. There's a helpful function in the statsmodels package to add a constant term, or you can write code to add the constant yourself, if you wish.\n",
    "\n",
    "Call the function you wrote to get the regression model of our yearly average interest, then print the parameters of the regression line in the form $Y = \\alpha + \\beta x$. \n",
    "\n",
    "Then make a scatter plot of the mean annual interest in influenza as a function of year, and overlay the estimated regression line. Label your axes and provide a legend."
   ]
  },
  {
   "cell_type": "code",
   "execution_count": 7,
   "metadata": {},
   "outputs": [],
   "source": [
    "#STARTER CODE DO NOT CHANGE\n",
    "import statsmodels.api as sm"
   ]
  },
  {
   "cell_type": "code",
   "execution_count": 8,
   "metadata": {},
   "outputs": [
    {
     "name": "stdout",
     "output_type": "stream",
     "text": [
      "Y = -2377.91584967328 + 1.1901552287582078 x\n"
     ]
    },
    {
     "name": "stderr",
     "output_type": "stream",
     "text": [
      "C:\\Users\\jerem\\Anaconda3\\lib\\site-packages\\numpy\\core\\fromnumeric.py:2389: FutureWarning: Method .ptp is deprecated and will be removed in a future version. Use numpy.ptp instead.\n",
      "  return ptp(axis=axis, out=out, **kwargs)\n"
     ]
    },
    {
     "data": {
      "text/plain": [
       "<matplotlib.legend.Legend at 0x23e01410588>"
      ]
     },
     "execution_count": 8,
     "metadata": {},
     "output_type": "execute_result"
    },
    {
     "data": {
      "image/png": "[encoded data removed]",
      "text/plain": [
       "<Figure size 1080x360 with 1 Axes>"
      ]
     },
     "metadata": {
      "needs_background": "light"
     },
     "output_type": "display_data"
    }
   ],
   "source": [
    "def linear_regress(df):\n",
    "    Y = df['Interest']\n",
    "    X = df['Year']\n",
    "    X = sm.add_constant(X)\n",
    "    model = sm.OLS(Y,X)\n",
    "    results = model.fit()\n",
    "    return results\n",
    "\n",
    "model = linear_regress(dfAnnual)\n",
    "ahat = model.params[0]\n",
    "bhat = model.params[1]\n",
    "print(\"Y =\", ahat, \"+\", bhat,\"x\")\n",
    "\n",
    "fig, ax = plt.subplots(figsize=(15,5))\n",
    "ax.scatter(dfAnnual[\"Year\"], dfAnnual[\"Interest\"], color=\"steelblue\", label=\"Observed\")\n",
    "ax.plot(dfAnnual[\"Year\"], model.fittedvalues, 'r--.', label=\"Predicted\")\n",
    "\n",
    "# Add legend\n",
    "ax.legend(loc = 'upper left')"
   ]
  },
  {
   "cell_type": "markdown",
   "metadata": {},
   "source": [
    "**Part F**: Give a physical interpretation of the coefficient $\\hat{\\beta}$, estimated from your model. Include addressing whether the relationship between time and interest in influenza is positive or negative. Fully justify your responses."
   ]
  },
  {
   "cell_type": "markdown",
   "metadata": {},
   "source": [
    "**Response:**\n",
    "\n",
    "$\\hat{\\beta}$ is the estimated slope of our linear model, and it measures the estimated increase or decrease in our response (interest) from a unit increase in our feature (time).  In our case, $\\hat{\\beta}$ is positive so we would expect that as time increases, so would the interest in influenza."
   ]
  },
  {
   "cell_type": "markdown",
   "metadata": {},
   "source": [
    "**Part G**: What interest in influenza does your simple linear regression model predict in the year 2050? What about in 2150? How about 1900? Feel free to use the statsmodels .predict() method here. What are potential drawbacks to this model for interest in influenza (think about the minimium and maximum values for the data)? \n",
    "\n",
    "**Note**: From Google Trends Documentation, the \"interest\" variable is defined as: \"Interest represent search interest relative to the highest point on the chart for the given region and time. A value of 100 is the peak popularity for the term. A value of 50 means that the term is half as popular. A score of 0 means there was not enough data for this term.\""
   ]
  },
  {
   "cell_type": "code",
   "execution_count": 9,
   "metadata": {},
   "outputs": [
    {
     "data": {
      "text/plain": [
       "array([-116.62091503,   61.90236928,  180.91789216])"
      ]
     },
     "execution_count": 9,
     "metadata": {},
     "output_type": "execute_result"
    }
   ],
   "source": [
    "new_X=[1900,2050,2150]\n",
    "new_X = sm.add_constant(new_X)\n",
    "model.predict(new_X)"
   ]
  },
  {
   "cell_type": "markdown",
   "metadata": {},
   "source": [
    "**Response:**\n",
    "\n",
    "There are a lot of drawbacks with this model to predict interest in influenza.  We'll start with the data itself.  We can see from parts D and E that there were spikes in the annaul average interest in influenza during 2009 and 2020, which is likely due to global influenza pandemics during those time periods (swine flu in 2009 and COVID-19 in 2020).  The rest of the data points are relatively stable, so it appears our data and our regression model is skewed upwards making our predicition values less-reliable.  \n",
    "\n",
    "Additionally, Google's \"interest\" variable is calculated in relation to the highest interest level over the given time period.  If we were to extend our graph into the future and we observed interest levels higer than our current highs, our response values would necessairly change as well, making prediciton more challenging and less reliable.  \n",
    "\n",
    "Looking back to 1900, there are other socioeconoic factors our model is unlikely to capture.  For example, the Spanish Flu was in 1919 and we would expect to see a similar spike in interest during that year.  There have been numerous technological advances in healtcare, likely impacting awareness and treatment surrounding influenza (i.e. the seasonal flu vaccination wasn't developed until 1930 and wasn't widely available until 1945).\n",
    "\n",
    "These are just a few examples that outline the limitations of our model.  All of these things together make our model and its predicted values of limited use."
   ]
  },
  {
   "cell_type": "markdown",
   "metadata": {},
   "source": [
    "**Part H:** Write a function that computes an 90% confidence interval for the slope parameter, $\\beta$. You'll need to use this function again later. This function should take in the dataframe of yearly data and a statsmodel linear regression model, and print both the 90% confidence interval for beta and the value of $\\hat{\\beta}$. You should be performing all calculations yourself in Python. \n",
    "\n",
    "**RULES: There is a statsmodels function that computes the confidence interval. Do not use it, write python code yourself to calculate the CI. You may use the statsmodels confidence interval function to check your work if your like. You also may use the statsmodel .predict() method to get predicted values, and the .params attribute to get the slope parameter. Write your own code to calculate the sum of square errors. You may use numpy functions (min, max, mean, var, etc...) and stats functions (ppf/cdf/etc...) where appropriate.**\n",
    "\n",
    "Call the function to calculate the 90% CI for beta with this model."
   ]
  },
  {
   "cell_type": "code",
   "execution_count": 10,
   "metadata": {},
   "outputs": [
    {
     "name": "stdout",
     "output_type": "stream",
     "text": [
      "3363.064933959688\n",
      "3363.0649339596944\n",
      "CI is:  -0.10406212757949462 ,  2.48437258509591\n",
      "Beta-hat is:  1.1901552287582078\n"
     ]
    }
   ],
   "source": [
    "def confidence_interval(df, model):\n",
    "    #get ahat and bhat from model\n",
    "    ahat = model.params[0]\n",
    "    bhat = model.params[1]\n",
    "    n = df.shape[0]\n",
    "    v = n - 1\n",
    "    xbar = df['Year'].mean()\n",
    "    \n",
    "    #add SSE for each row to the datafram\n",
    "    df['SSE'] = (df['Interest'] - (ahat + bhat*df[\"Year\"]))**2\n",
    "    df['xbar'] = (df['Year'] - xbar)**2\n",
    "    \n",
    "    #SSE is the sum of all squares\n",
    "    SSE = df['SSE'].sum()\n",
    "    print(SSE)\n",
    "    print(model.ssr)\n",
    "    xbardiff = df['xbar'].sum()\n",
    "    sigma_hat = np.sqrt(SSE / (n - 2))\n",
    "    t_alpha = stats.t.ppf(1-(0.10/2), df=v) #90% confidence interval\n",
    "    \n",
    "    CImin = bhat - t_alpha * (sigma_hat/np.sqrt(xbardiff))\n",
    "    CImax = bhat + t_alpha * (sigma_hat/np.sqrt(xbardiff))\n",
    "    \n",
    "    print(\"CI is: \", CImin, \", \", CImax)\n",
    "    print(\"Beta-hat is: \", bhat)\n",
    "    \n",
    "confidence_interval(dfAnnual,model)"
   ]
  },
  {
   "cell_type": "code",
   "execution_count": 6,
   "metadata": {},
   "outputs": [
    {
     "name": "stdout",
     "output_type": "stream",
     "text": [
      "4.73741412777588\n"
     ]
    }
   ],
   "source": [
    "t_alpha = stats.f.ppf((1-0.05), dfn=2, dfd=7) #90% confidence interval\n",
    "print (t_alpha)"
   ]
  },
  {
   "cell_type": "markdown",
   "metadata": {},
   "source": [
    "**Part I:** What proportion of the variation in mean annual interest in influenza is explained by your linear regression model? Note: It's fine to use the model .summary method here. You do not need to calculate this by hand."
   ]
  },
  {
   "cell_type": "code",
   "execution_count": 57,
   "metadata": {},
   "outputs": [
    {
     "data": {
      "text/html": [
       "<table class=\"simpletable\">\n",
       "<caption>OLS Regression Results</caption>\n",
       "<tr>\n",
       "  <th>Dep. Variable:</th>        <td>Interest</td>     <th>  R-squared:         </th> <td>   0.147</td>\n",
       "</tr>\n",
       "<tr>\n",
       "  <th>Model:</th>                   <td>OLS</td>       <th>  Adj. R-squared:    </th> <td>   0.090</td>\n",
       "</tr>\n",
       "<tr>\n",
       "  <th>Method:</th>             <td>Least Squares</td>  <th>  F-statistic:       </th> <td>   2.578</td>\n",
       "</tr>\n",
       "<tr>\n",
       "  <th>Date:</th>             <td>Sat, 18 Apr 2020</td> <th>  Prob (F-statistic):</th>  <td> 0.129</td> \n",
       "</tr>\n",
       "<tr>\n",
       "  <th>Time:</th>                 <td>09:51:54</td>     <th>  Log-Likelihood:    </th> <td> -69.065</td>\n",
       "</tr>\n",
       "<tr>\n",
       "  <th>No. Observations:</th>      <td>    17</td>      <th>  AIC:               </th> <td>   142.1</td>\n",
       "</tr>\n",
       "<tr>\n",
       "  <th>Df Residuals:</th>          <td>    15</td>      <th>  BIC:               </th> <td>   143.8</td>\n",
       "</tr>\n",
       "<tr>\n",
       "  <th>Df Model:</th>              <td>     1</td>      <th>                     </th>     <td> </td>   \n",
       "</tr>\n",
       "<tr>\n",
       "  <th>Covariance Type:</th>      <td>nonrobust</td>    <th>                     </th>     <td> </td>   \n",
       "</tr>\n",
       "</table>\n",
       "<table class=\"simpletable\">\n",
       "<tr>\n",
       "    <td></td>       <th>coef</th>     <th>std err</th>      <th>t</th>      <th>P>|t|</th>  <th>[0.025</th>    <th>0.975]</th>  \n",
       "</tr>\n",
       "<tr>\n",
       "  <th>const</th> <td>-2377.9158</td> <td> 1491.493</td> <td>   -1.594</td> <td> 0.132</td> <td>-5556.958</td> <td>  801.126</td>\n",
       "</tr>\n",
       "<tr>\n",
       "  <th>Year</th>  <td>    1.1902</td> <td>    0.741</td> <td>    1.606</td> <td> 0.129</td> <td>   -0.390</td> <td>    2.770</td>\n",
       "</tr>\n",
       "</table>\n",
       "<table class=\"simpletable\">\n",
       "<tr>\n",
       "  <th>Omnibus:</th>       <td>26.281</td> <th>  Durbin-Watson:     </th> <td>   1.210</td>\n",
       "</tr>\n",
       "<tr>\n",
       "  <th>Prob(Omnibus):</th> <td> 0.000</td> <th>  Jarque-Bera (JB):  </th> <td>  37.465</td>\n",
       "</tr>\n",
       "<tr>\n",
       "  <th>Skew:</th>          <td> 2.371</td> <th>  Prob(JB):          </th> <td>7.32e-09</td>\n",
       "</tr>\n",
       "<tr>\n",
       "  <th>Kurtosis:</th>      <td> 8.514</td> <th>  Cond. No.          </th> <td>8.26e+05</td>\n",
       "</tr>\n",
       "</table><br/><br/>Warnings:<br/>[1] Standard Errors assume that the covariance matrix of the errors is correctly specified.<br/>[2] The condition number is large, 8.26e+05. This might indicate that there are<br/>strong multicollinearity or other numerical problems."
      ],
      "text/plain": [
       "<class 'statsmodels.iolib.summary.Summary'>\n",
       "\"\"\"\n",
       "                            OLS Regression Results                            \n",
       "==============================================================================\n",
       "Dep. Variable:               Interest   R-squared:                       0.147\n",
       "Model:                            OLS   Adj. R-squared:                  0.090\n",
       "Method:                 Least Squares   F-statistic:                     2.578\n",
       "Date:                Sat, 18 Apr 2020   Prob (F-statistic):              0.129\n",
       "Time:                        09:51:54   Log-Likelihood:                -69.065\n",
       "No. Observations:                  17   AIC:                             142.1\n",
       "Df Residuals:                      15   BIC:                             143.8\n",
       "Df Model:                           1                                         \n",
       "Covariance Type:            nonrobust                                         \n",
       "==============================================================================\n",
       "                 coef    std err          t      P>|t|      [0.025      0.975]\n",
       "------------------------------------------------------------------------------\n",
       "const      -2377.9158   1491.493     -1.594      0.132   -5556.958     801.126\n",
       "Year           1.1902      0.741      1.606      0.129      -0.390       2.770\n",
       "==============================================================================\n",
       "Omnibus:                       26.281   Durbin-Watson:                   1.210\n",
       "Prob(Omnibus):                  0.000   Jarque-Bera (JB):               37.465\n",
       "Skew:                           2.371   Prob(JB):                     7.32e-09\n",
       "Kurtosis:                       8.514   Cond. No.                     8.26e+05\n",
       "==============================================================================\n",
       "\n",
       "Warnings:\n",
       "[1] Standard Errors assume that the covariance matrix of the errors is correctly specified.\n",
       "[2] The condition number is large, 8.26e+05. This might indicate that there are\n",
       "strong multicollinearity or other numerical problems.\n",
       "\"\"\""
      ]
     },
     "execution_count": 57,
     "metadata": {},
     "output_type": "execute_result"
    }
   ],
   "source": [
    "model.summary()"
   ]
  },
  {
   "cell_type": "markdown",
   "metadata": {},
   "source": [
    "**Response:**\n",
    "\n",
    "The coefficient of determination, $R^{2}$, quantifies how well the model explains the data.  Our model has an $R^{2}$ value of 0.147, suggesting that 14.7% of total variation in the data is explained by the model."
   ]
  },
  {
   "cell_type": "markdown",
   "metadata": {},
   "source": [
    "**Part J:** Ouch, so that model doesn't really explain very much of the variance in the data! Maybe we have some outliers in our data. Use your original monthly dataframe and drop any rows that have an interest value greater than or equal to the 97th percentile of our data. Print the number of rows remaining."
   ]
  },
  {
   "cell_type": "code",
   "execution_count": 67,
   "metadata": {},
   "outputs": [
    {
     "data": {
      "text/html": [
       "<div>\n",
       "<style scoped>\n",
       "    .dataframe tbody tr th:only-of-type {\n",
       "        vertical-align: middle;\n",
       "    }\n",
       "\n",
       "    .dataframe tbody tr th {\n",
       "        vertical-align: top;\n",
       "    }\n",
       "\n",
       "    .dataframe thead th {\n",
       "        text-align: right;\n",
       "    }\n",
       "</style>\n",
       "<table border=\"1\" class=\"dataframe\">\n",
       "  <thead>\n",
       "    <tr style=\"text-align: right;\">\n",
       "      <th></th>\n",
       "      <th>index</th>\n",
       "      <th>Date</th>\n",
       "      <th>Interest</th>\n",
       "      <th>Year</th>\n",
       "      <th>Month</th>\n",
       "    </tr>\n",
       "  </thead>\n",
       "  <tbody>\n",
       "    <tr>\n",
       "      <td>0</td>\n",
       "      <td>0</td>\n",
       "      <td>2004-01-01</td>\n",
       "      <td>19</td>\n",
       "      <td>2004</td>\n",
       "      <td>1</td>\n",
       "    </tr>\n",
       "    <tr>\n",
       "      <td>1</td>\n",
       "      <td>1</td>\n",
       "      <td>2004-02-01</td>\n",
       "      <td>19</td>\n",
       "      <td>2004</td>\n",
       "      <td>2</td>\n",
       "    </tr>\n",
       "    <tr>\n",
       "      <td>2</td>\n",
       "      <td>2</td>\n",
       "      <td>2004-03-01</td>\n",
       "      <td>14</td>\n",
       "      <td>2004</td>\n",
       "      <td>3</td>\n",
       "    </tr>\n",
       "    <tr>\n",
       "      <td>3</td>\n",
       "      <td>3</td>\n",
       "      <td>2004-04-01</td>\n",
       "      <td>11</td>\n",
       "      <td>2004</td>\n",
       "      <td>4</td>\n",
       "    </tr>\n",
       "    <tr>\n",
       "      <td>4</td>\n",
       "      <td>4</td>\n",
       "      <td>2004-05-01</td>\n",
       "      <td>9</td>\n",
       "      <td>2004</td>\n",
       "      <td>5</td>\n",
       "    </tr>\n",
       "    <tr>\n",
       "      <td>...</td>\n",
       "      <td>...</td>\n",
       "      <td>...</td>\n",
       "      <td>...</td>\n",
       "      <td>...</td>\n",
       "      <td>...</td>\n",
       "    </tr>\n",
       "    <tr>\n",
       "      <td>184</td>\n",
       "      <td>187</td>\n",
       "      <td>2019-08-01</td>\n",
       "      <td>5</td>\n",
       "      <td>2019</td>\n",
       "      <td>8</td>\n",
       "    </tr>\n",
       "    <tr>\n",
       "      <td>185</td>\n",
       "      <td>188</td>\n",
       "      <td>2019-09-01</td>\n",
       "      <td>9</td>\n",
       "      <td>2019</td>\n",
       "      <td>9</td>\n",
       "    </tr>\n",
       "    <tr>\n",
       "      <td>186</td>\n",
       "      <td>189</td>\n",
       "      <td>2019-10-01</td>\n",
       "      <td>12</td>\n",
       "      <td>2019</td>\n",
       "      <td>10</td>\n",
       "    </tr>\n",
       "    <tr>\n",
       "      <td>187</td>\n",
       "      <td>190</td>\n",
       "      <td>2019-11-01</td>\n",
       "      <td>13</td>\n",
       "      <td>2019</td>\n",
       "      <td>11</td>\n",
       "    </tr>\n",
       "    <tr>\n",
       "      <td>188</td>\n",
       "      <td>191</td>\n",
       "      <td>2019-12-01</td>\n",
       "      <td>29</td>\n",
       "      <td>2019</td>\n",
       "      <td>12</td>\n",
       "    </tr>\n",
       "  </tbody>\n",
       "</table>\n",
       "<p>189 rows × 5 columns</p>\n",
       "</div>"
      ],
      "text/plain": [
       "     index       Date  Interest  Year  Month\n",
       "0        0 2004-01-01        19  2004      1\n",
       "1        1 2004-02-01        19  2004      2\n",
       "2        2 2004-03-01        14  2004      3\n",
       "3        3 2004-04-01        11  2004      4\n",
       "4        4 2004-05-01         9  2004      5\n",
       "..     ...        ...       ...   ...    ...\n",
       "184    187 2019-08-01         5  2019      8\n",
       "185    188 2019-09-01         9  2019      9\n",
       "186    189 2019-10-01        12  2019     10\n",
       "187    190 2019-11-01        13  2019     11\n",
       "188    191 2019-12-01        29  2019     12\n",
       "\n",
       "[189 rows x 5 columns]"
      ]
     },
     "execution_count": 67,
     "metadata": {},
     "output_type": "execute_result"
    }
   ],
   "source": [
    "dfClean = df[df.Interest < np.percentile(df['Interest'], 97)]\n",
    "dfClean.reset_index(inplace = True) #reset index\n",
    "dfClean"
   ]
  },
  {
   "cell_type": "markdown",
   "metadata": {},
   "source": [
    "**Part K:** In this problem, you'll use the functions you wrote in parts **D**, **E**, and **H** to process your new outlier free data, then fit a regression model and calculate the confidence interval on the slope parameter of the new model. First, use your function from part **D** to get the yearly averages. Second, use the function from part **E** to fit a linear regression model to the yearly averages. Finally, use the function you wrote in **H** to print the 90% confidence interval of the slope and the estimated slope."
   ]
  },
  {
   "cell_type": "code",
   "execution_count": 68,
   "metadata": {},
   "outputs": [
    {
     "name": "stdout",
     "output_type": "stream",
     "text": [
      "CI is:  -0.5203847593829121 ,  0.22635623888377954\n",
      "Beta-hat is:  -0.14701426024956626\n"
     ]
    }
   ],
   "source": [
    "#convert clean data to annual\n",
    "dfAnnualClean = convert_annual(dfClean)\n",
    "\n",
    "#recalculate regression model\n",
    "modelClean = linear_regress(dfAnnualClean)\n",
    "\n",
    "#call CI on new clean data\n",
    "confidence_interval(dfAnnualClean,modelClean)"
   ]
  },
  {
   "cell_type": "markdown",
   "metadata": {},
   "source": [
    "**Part L:** Our estimate for beta, the slope parameter in part **K** should have come out to be slightly negative, and also should have had a confidence interval that included zero (check your work if it didn't). What does this tell us about our data? Does it seem like interest in Influenza is increasing or decreasing over time? Or is the interest in Influenza more affected by yearly trends and high peaks in intrest during especially bad years for flu (or flu like diseases)?"
   ]
  },
  {
   "cell_type": "markdown",
   "metadata": {},
   "source": [
    "**Response:**\n",
    "\n",
    "With our CI including zero, this tells us that the average annual interest in influenza may not be increasing or decreasing over time.  This suggests that the interest in influenza is more affected by yearly trends and golbal outbreaks such as the Swine Flu or COVID-19."
   ]
  }
 ],
 "metadata": {
  "kernelspec": {
   "display_name": "Python 3",
   "language": "python",
   "name": "python3"
  },
  "language_info": {
   "codemirror_mode": {
    "name": "ipython",
    "version": 3
   },
   "file_extension": ".py",
   "mimetype": "text/x-python",
   "name": "python",
   "nbconvert_exporter": "python",
   "pygments_lexer": "ipython3",
   "version": "3.7.4"
  }
 },
 "nbformat": 4,
 "nbformat_minor": 2
}
